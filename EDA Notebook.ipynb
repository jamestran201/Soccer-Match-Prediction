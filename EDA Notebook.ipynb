{
 "cells": [
  {
   "cell_type": "code",
   "execution_count": 1,
   "metadata": {},
   "outputs": [],
   "source": [
    "import pandas as pd\n",
    "from sqlalchemy import create_engine"
   ]
  },
  {
   "cell_type": "code",
   "execution_count": 2,
   "metadata": {},
   "outputs": [],
   "source": [
    "engine = create_engine(\"sqlite:///database.sqlite\")\n",
    "\n",
    "df = pd.read_sql_table(\"football_data\", engine)\n",
    "\n",
    "# df.info(memory_usage=\"deep\")"
   ]
  },
  {
   "cell_type": "code",
   "execution_count": 9,
   "metadata": {},
   "outputs": [
    {
     "data": {
      "text/html": [
       "<div>\n",
       "<style scoped>\n",
       "    .dataframe tbody tr th:only-of-type {\n",
       "        vertical-align: middle;\n",
       "    }\n",
       "\n",
       "    .dataframe tbody tr th {\n",
       "        vertical-align: top;\n",
       "    }\n",
       "\n",
       "    .dataframe thead th {\n",
       "        text-align: right;\n",
       "    }\n",
       "</style>\n",
       "<table border=\"1\" class=\"dataframe\">\n",
       "  <thead>\n",
       "    <tr style=\"text-align: right;\">\n",
       "      <th></th>\n",
       "      <th>Season</th>\n",
       "      <th>Date</th>\n",
       "      <th>Div</th>\n",
       "      <th>Country</th>\n",
       "      <th>League</th>\n",
       "      <th>Referee</th>\n",
       "      <th>HomeTeam</th>\n",
       "      <th>AwayTeam</th>\n",
       "      <th>FTHG</th>\n",
       "      <th>FTAG</th>\n",
       "      <th>...</th>\n",
       "      <th>SOH</th>\n",
       "      <th>SYA</th>\n",
       "      <th>SYD</th>\n",
       "      <th>SYH</th>\n",
       "      <th>VCA</th>\n",
       "      <th>VCD</th>\n",
       "      <th>VCH</th>\n",
       "      <th>WHA</th>\n",
       "      <th>WHD</th>\n",
       "      <th>WHH</th>\n",
       "    </tr>\n",
       "  </thead>\n",
       "  <tbody>\n",
       "    <tr>\n",
       "      <th>0</th>\n",
       "      <td>2018/2019</td>\n",
       "      <td>2018-10-03</td>\n",
       "      <td>E1</td>\n",
       "      <td>England</td>\n",
       "      <td>Championship</td>\n",
       "      <td>O Langford</td>\n",
       "      <td>Sheffield Weds</td>\n",
       "      <td>West Brom</td>\n",
       "      <td>2</td>\n",
       "      <td>2</td>\n",
       "      <td>...</td>\n",
       "      <td>NaN</td>\n",
       "      <td>NaN</td>\n",
       "      <td>NaN</td>\n",
       "      <td>NaN</td>\n",
       "      <td>2.10</td>\n",
       "      <td>3.6</td>\n",
       "      <td>3.60</td>\n",
       "      <td>2.10</td>\n",
       "      <td>3.5</td>\n",
       "      <td>3.50</td>\n",
       "    </tr>\n",
       "    <tr>\n",
       "      <th>1</th>\n",
       "      <td>2018/2019</td>\n",
       "      <td>2018-10-03</td>\n",
       "      <td>E1</td>\n",
       "      <td>England</td>\n",
       "      <td>Championship</td>\n",
       "      <td>G Ward</td>\n",
       "      <td>Rotherham</td>\n",
       "      <td>Bristol City</td>\n",
       "      <td>0</td>\n",
       "      <td>0</td>\n",
       "      <td>...</td>\n",
       "      <td>NaN</td>\n",
       "      <td>NaN</td>\n",
       "      <td>NaN</td>\n",
       "      <td>NaN</td>\n",
       "      <td>2.10</td>\n",
       "      <td>3.5</td>\n",
       "      <td>3.75</td>\n",
       "      <td>2.15</td>\n",
       "      <td>3.4</td>\n",
       "      <td>3.50</td>\n",
       "    </tr>\n",
       "    <tr>\n",
       "      <th>2</th>\n",
       "      <td>2018/2019</td>\n",
       "      <td>2018-10-03</td>\n",
       "      <td>E1</td>\n",
       "      <td>England</td>\n",
       "      <td>Championship</td>\n",
       "      <td>J Moss</td>\n",
       "      <td>Nott'm Forest</td>\n",
       "      <td>Millwall</td>\n",
       "      <td>2</td>\n",
       "      <td>2</td>\n",
       "      <td>...</td>\n",
       "      <td>NaN</td>\n",
       "      <td>NaN</td>\n",
       "      <td>NaN</td>\n",
       "      <td>NaN</td>\n",
       "      <td>4.30</td>\n",
       "      <td>3.6</td>\n",
       "      <td>1.93</td>\n",
       "      <td>4.00</td>\n",
       "      <td>3.6</td>\n",
       "      <td>1.91</td>\n",
       "    </tr>\n",
       "    <tr>\n",
       "      <th>3</th>\n",
       "      <td>2018/2019</td>\n",
       "      <td>2018-10-03</td>\n",
       "      <td>E1</td>\n",
       "      <td>England</td>\n",
       "      <td>Championship</td>\n",
       "      <td>G Eltringham</td>\n",
       "      <td>Derby</td>\n",
       "      <td>Norwich</td>\n",
       "      <td>1</td>\n",
       "      <td>1</td>\n",
       "      <td>...</td>\n",
       "      <td>NaN</td>\n",
       "      <td>NaN</td>\n",
       "      <td>NaN</td>\n",
       "      <td>NaN</td>\n",
       "      <td>3.60</td>\n",
       "      <td>3.5</td>\n",
       "      <td>2.15</td>\n",
       "      <td>3.40</td>\n",
       "      <td>3.4</td>\n",
       "      <td>2.15</td>\n",
       "    </tr>\n",
       "    <tr>\n",
       "      <th>4</th>\n",
       "      <td>2018/2019</td>\n",
       "      <td>2018-10-03</td>\n",
       "      <td>E1</td>\n",
       "      <td>England</td>\n",
       "      <td>Championship</td>\n",
       "      <td>R Jones</td>\n",
       "      <td>Blackburn</td>\n",
       "      <td>Sheffield United</td>\n",
       "      <td>0</td>\n",
       "      <td>2</td>\n",
       "      <td>...</td>\n",
       "      <td>NaN</td>\n",
       "      <td>NaN</td>\n",
       "      <td>NaN</td>\n",
       "      <td>NaN</td>\n",
       "      <td>2.63</td>\n",
       "      <td>3.3</td>\n",
       "      <td>2.90</td>\n",
       "      <td>2.55</td>\n",
       "      <td>3.3</td>\n",
       "      <td>2.80</td>\n",
       "    </tr>\n",
       "  </tbody>\n",
       "</table>\n",
       "<p>5 rows × 110 columns</p>\n",
       "</div>"
      ],
      "text/plain": [
       "      Season       Date Div  Country        League       Referee  \\\n",
       "0  2018/2019 2018-10-03  E1  England  Championship    O Langford   \n",
       "1  2018/2019 2018-10-03  E1  England  Championship        G Ward   \n",
       "2  2018/2019 2018-10-03  E1  England  Championship        J Moss   \n",
       "3  2018/2019 2018-10-03  E1  England  Championship  G Eltringham   \n",
       "4  2018/2019 2018-10-03  E1  England  Championship       R Jones   \n",
       "\n",
       "         HomeTeam          AwayTeam  FTHG  FTAG  ...  SOH  SYA  SYD SYH   VCA  \\\n",
       "0  Sheffield Weds         West Brom     2     2  ...  NaN  NaN  NaN NaN  2.10   \n",
       "1       Rotherham      Bristol City     0     0  ...  NaN  NaN  NaN NaN  2.10   \n",
       "2   Nott'm Forest          Millwall     2     2  ...  NaN  NaN  NaN NaN  4.30   \n",
       "3           Derby           Norwich     1     1  ...  NaN  NaN  NaN NaN  3.60   \n",
       "4       Blackburn  Sheffield United     0     2  ...  NaN  NaN  NaN NaN  2.63   \n",
       "\n",
       "   VCD   VCH   WHA  WHD   WHH  \n",
       "0  3.6  3.60  2.10  3.5  3.50  \n",
       "1  3.5  3.75  2.15  3.4  3.50  \n",
       "2  3.6  1.93  4.00  3.6  1.91  \n",
       "3  3.5  2.15  3.40  3.4  2.15  \n",
       "4  3.3  2.90  2.55  3.3  2.80  \n",
       "\n",
       "[5 rows x 110 columns]"
      ]
     },
     "execution_count": 9,
     "metadata": {},
     "output_type": "execute_result"
    }
   ],
   "source": [
    "df.head()"
   ]
  },
  {
   "cell_type": "code",
   "execution_count": 3,
   "metadata": {
    "slideshow": {
     "slide_type": "-"
    }
   },
   "outputs": [
    {
     "name": "stdout",
     "output_type": "stream",
     "text": [
      "Number of records: 132380\n",
      "Number of features: 110\n"
     ]
    }
   ],
   "source": [
    "print(\"Number of records: {}\".format(df.shape[0]))\n",
    "print(\"Number of features: {}\".format(df.shape[1]))"
   ]
  },
  {
   "cell_type": "code",
   "execution_count": 4,
   "metadata": {},
   "outputs": [
    {
     "name": "stdout",
     "output_type": "stream",
     "text": [
      "Unique values for goal-related features:\n",
      "FTHG: [ 2  0  1  3  5  4  7  6  8  9 10 -1]\n",
      "FTAG: [ 2  0  1  3  4  5  6  7  8  9 -1]\n",
      "FTR: ['D' 'A' 'H' None]\n",
      "HTHG: [ 2  0  1  3  4  5 -1  6  7]\n",
      "HTAG: [ 0  1  2  4  3 -1  6  5]\n",
      "HTR: ['H' 'D' 'A' None]\n"
     ]
    }
   ],
   "source": [
    "print(\"Unique values for goal-related features:\")\n",
    "print(\"FTHG: {}\".format(df[\"FTHG\"].unique()))\n",
    "print(\"FTAG: {}\".format(df[\"FTAG\"].unique()))\n",
    "print(\"FTR: {}\".format(df[\"FTR\"].unique()))\n",
    "print(\"HTHG: {}\".format(df[\"HTHG\"].unique()))\n",
    "print(\"HTAG: {}\".format(df[\"HTAG\"].unique()))\n",
    "print(\"HTR: {}\".format(df[\"HTR\"].unique()))"
   ]
  },
  {
   "cell_type": "markdown",
   "metadata": {},
   "source": [
    "We can see some issues with the data:\n",
    "1. FTHG, FTAG, HTHG and HTAG can have negative values\n",
    "2. FTR and HTR have missing data\n",
    "\n",
    "If all of FTHG, FTAG, HTHG, and HTAG of a match are negative, we may consider removing that match since it's not possible to determine the outcome of the match"
   ]
  },
  {
   "cell_type": "code",
   "execution_count": 5,
   "metadata": {},
   "outputs": [
    {
     "name": "stdout",
     "output_type": "stream",
     "text": [
      "Number of matches where all of FTHG, FTAG, HTHG and HTAG are negative: 1\n"
     ]
    }
   ],
   "source": [
    "mask = (df[\"FTHG\"] == -1) & (df[\"FTAG\"] == -1) & (df[\"HTHG\"] == -1) & (df[\"HTAG\"] == -1)\n",
    "print(\"Number of matches where all of FTHG, FTAG, HTHG and HTAG are negative: {}\".format(df[mask].shape[0]))"
   ]
  },
  {
   "cell_type": "code",
   "execution_count": 6,
   "metadata": {},
   "outputs": [],
   "source": [
    "# Remove the record that has all negative values\n",
    "i = df[mask].index[0]\n",
    "df.drop(index = i, inplace = True)\n",
    "df = df.reset_index()"
   ]
  },
  {
   "cell_type": "markdown",
   "metadata": {},
   "source": [
    "For the remaining records that have HTHG and HTAG equal to -1, we can try setting them to 0 (this is an arbitary decision). Also, set the HTR (Half time result) of these matches to \"D\""
   ]
  },
  {
   "cell_type": "code",
   "execution_count": 7,
   "metadata": {},
   "outputs": [],
   "source": [
    "mask = (df[\"HTHG\"] == -1) & (df[\"HTAG\"] == -1)\n",
    "df.loc[mask, \"HTHG\"] = 0\n",
    "df.loc[mask, \"HTAG\"] = 0\n",
    "df.loc[mask, \"HTR\"] = \"D\""
   ]
  },
  {
   "cell_type": "code",
   "execution_count": 8,
   "metadata": {},
   "outputs": [
    {
     "name": "stdout",
     "output_type": "stream",
     "text": [
      "Number of features that have at least 40% missing values: 58\n"
     ]
    }
   ],
   "source": [
    "null_count = df.isnull().sum()\n",
    "null_count /= df.shape[0]\n",
    "\n",
    "print(\"Number of features that have at least 40% missing values: {}\".format((null_count >= 0.4).sum()))"
   ]
  },
  {
   "cell_type": "code",
   "execution_count": 9,
   "metadata": {
    "scrolled": false
   },
   "outputs": [],
   "source": [
    "null_count_df = null_count.to_frame().reset_index()\n",
    "null_count_df.columns = [\"Feature\", \"Null_perct\"]\n",
    "null_count_df.sort_values(\"Null_perct\", ascending = False, inplace = True)\n",
    "\n",
    "# Keep only the features where the % of missing values is less than 40%\n",
    "features_lt_40_missing = null_count_df[null_count_df[\"Null_perct\"] < 0.4][\"Feature\"]\n",
    "reduced_df = df[features_lt_40_missing]"
   ]
  },
  {
   "cell_type": "code",
   "execution_count": 10,
   "metadata": {},
   "outputs": [
    {
     "data": {
      "text/plain": [
       "Index(['GBA', 'GBD', 'GBH', 'VCD', 'VCH', 'VCA', 'BbMxAHA', 'BbAvAHA',\n",
       "       'BbMxAHH', 'BbAvAHH', 'BbAHh', 'BbAH', 'BbMx<2.5', 'BbAv<2.5',\n",
       "       'BbMx>2.5', 'BbAv>2.5', 'BbOU', 'BbAvA', 'BbMxA', 'BbMxD', 'Bb1X2',\n",
       "       'BbAvH', 'BbAvD', 'BbMxH', 'BWH', 'BWD', 'BWA', 'B365D', 'B365A',\n",
       "       'B365H', 'LBD', 'LBH', 'LBA', 'WHA', 'WHD', 'WHH', 'IWA', 'IWH', 'IWD',\n",
       "       'AwayTeam', 'HomeTeam', 'Date', 'Div', 'Country', 'League', 'FTAG',\n",
       "       'FTHG', 'FTR', 'HTHG', 'HTAG', 'HTR', 'Season', 'index'],\n",
       "      dtype='object')"
      ]
     },
     "execution_count": 10,
     "metadata": {},
     "output_type": "execute_result"
    }
   ],
   "source": [
    "reduced_df.columns"
   ]
  },
  {
   "cell_type": "code",
   "execution_count": 11,
   "metadata": {},
   "outputs": [],
   "source": [
    "# Let's try building some models without odds data first since they have more missing values\n",
    "df_game_stats_only = reduced_df.loc[:, ['AwayTeam', 'HomeTeam', 'HTR', 'FTR', 'Date', 'HTAG', 'HTHG', 'FTAG', 'FTHG',\n",
    "                                 'League', 'Country', 'Div', 'Season']]"
   ]
  },
  {
   "cell_type": "code",
   "execution_count": 12,
   "metadata": {},
   "outputs": [
    {
     "data": {
      "text/plain": [
       "AwayTeam    1046\n",
       "HomeTeam    1046\n",
       "HTR            0\n",
       "FTR            0\n",
       "Date           0\n",
       "HTAG           0\n",
       "HTHG           0\n",
       "FTAG           0\n",
       "FTHG           0\n",
       "League         0\n",
       "Country        0\n",
       "Div            0\n",
       "Season         0\n",
       "dtype: int64"
      ]
     },
     "execution_count": 12,
     "metadata": {},
     "output_type": "execute_result"
    }
   ],
   "source": [
    "df_game_stats_only.isnull().sum()"
   ]
  },
  {
   "cell_type": "markdown",
   "metadata": {},
   "source": [
    "Remove games where HomeTeam and AwayTeam are null since they only account for about 1% of the dataset"
   ]
  },
  {
   "cell_type": "code",
   "execution_count": 13,
   "metadata": {},
   "outputs": [],
   "source": [
    "df_game_stats_only.dropna(subset=[\"HomeTeam\", \"AwayTeam\"], inplace=True)"
   ]
  },
  {
   "cell_type": "code",
   "execution_count": null,
   "metadata": {},
   "outputs": [],
   "source": []
  }
 ],
 "metadata": {
  "kernelspec": {
   "display_name": "Python 3",
   "language": "python",
   "name": "python3"
  },
  "language_info": {
   "codemirror_mode": {
    "name": "ipython",
    "version": 3
   },
   "file_extension": ".py",
   "mimetype": "text/x-python",
   "name": "python",
   "nbconvert_exporter": "python",
   "pygments_lexer": "ipython3",
   "version": "3.6.5"
  }
 },
 "nbformat": 4,
 "nbformat_minor": 2
}
