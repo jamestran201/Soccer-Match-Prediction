{
 "cells": [
  {
   "cell_type": "markdown",
   "metadata": {},
   "source": [
    "Summary:\n",
    "1. SVM with RBF kernel was trained with 20 features selected through a chi squared test. It achieved 74.1% accuracy on the test set.\n",
    "2. SVM with Linear kernel was trained with 13 features selected through RFECV. It achived 74.8% accuracy on the test set. The model also trains much faster than the one with RBF kernel. This model assigns heavy weights to the number of assists made by both teams before halftime. The number of red cards the home team gets before half time also has decent weight."
   ]
  },
  {
   "cell_type": "code",
   "execution_count": 1,
   "metadata": {},
   "outputs": [],
   "source": [
    "import pandas as pd\n",
    "import numpy as np\n",
    "import seaborn as sns\n",
    "from sklearn.svm import SVC\n",
    "from sklearn.multiclass import OneVsRestClassifier\n",
    "from sklearn.model_selection import GridSearchCV, StratifiedKFold\n",
    "from sklearn.feature_selection import RFECV, chi2, SelectKBest\n",
    "from sklearn.pipeline import Pipeline\n",
    "from sklearn.preprocessing import MinMaxScaler, label_binarize\n",
    "from sklearn.metrics import make_scorer, precision_score, recall_score, f1_score, precision_recall_curve, average_precision_score, accuracy_score\n",
    "from itertools import cycle\n",
    "import matplotlib.pyplot as plt"
   ]
  },
  {
   "cell_type": "code",
   "execution_count": 2,
   "metadata": {},
   "outputs": [],
   "source": [
    "def plot_precision_recall_curve(n_classes, precision, recall):\n",
    "    # Taken from https://scikit-learn.org/stable/auto_examples/model_selection/plot_precision_recall.html\n",
    "    \n",
    "    # setup plot details\n",
    "    colors = cycle(['navy', 'turquoise', 'darkorange'])\n",
    "\n",
    "    plt.figure(figsize=(7, 8))\n",
    "    lines = []\n",
    "    labels = []\n",
    "\n",
    "    l, = plt.plot(recall[\"micro\"], precision[\"micro\"], color='gold', lw=2)\n",
    "    lines.append(l)\n",
    "    labels.append('micro-average Precision-recall')\n",
    "\n",
    "    for i, color in zip(range(n_classes), colors):\n",
    "        l, = plt.plot(recall[i], precision[i], color=color, lw=2)\n",
    "        lines.append(l)\n",
    "        labels.append('Precision-recall for class {0}'.format(i))\n",
    "\n",
    "    fig = plt.gcf()\n",
    "    fig.subplots_adjust(bottom=0.25)\n",
    "    plt.xlim([0.0, 1.0])\n",
    "    plt.ylim([0.0, 1.05])\n",
    "    plt.xlabel('Recall')\n",
    "    plt.ylabel('Precision')\n",
    "    plt.legend(lines, labels, loc=(0, -.38), prop=dict(size=14))\n",
    "\n",
    "    plt.show()\n",
    "\n",
    "def show_classification_metrics(classifier, features, y_true, n_classes):\n",
    "    prob = None\n",
    "    y_pred = classifier.predict(features)\n",
    "    \n",
    "    try:\n",
    "        prob = classifier.predict_proba(features)\n",
    "    except:\n",
    "        pass\n",
    "    \n",
    "    if prob is None:\n",
    "        try:\n",
    "            prob = classifier.decision_function(features)\n",
    "        except:\n",
    "            print(\"Cannot get class probability or decision function from classifier\")\n",
    "            return\n",
    "    \n",
    "\n",
    "    # For each class\n",
    "    precision = dict()\n",
    "    recall = dict()\n",
    "    average_precision = dict()\n",
    "    for i in range(n_classes):\n",
    "        precision[i], recall[i], _ = precision_recall_curve(y_true[:, i], prob[:, i])\n",
    "        average_precision[i] = average_precision_score(y_true[:, i], prob[:, i])\n",
    "\n",
    "    # A \"micro-average\": quantifying score on all classes jointly\n",
    "    precision[\"micro\"], recall[\"micro\"], _ = precision_recall_curve(y_true.ravel(),prob.ravel())\n",
    "    average_precision[\"micro\"] = average_precision_score(y_true, prob,average=\"micro\")\n",
    "    print('Average precision score, micro-averaged over all classes: {0:0.2f}'.format(average_precision[\"micro\"]))\n",
    "    print()\n",
    "    \n",
    "    precision_micro = precision_score(y_true, y_pred, average=\"micro\")\n",
    "    precision_weighted = precision_score(y_true, y_pred, average=\"weighted\")\n",
    "    precision_macro = precision_score(y_true, y_pred, average=\"macro\")\n",
    "\n",
    "    recall_micro = recall_score(y_true, y_pred, average=\"micro\")\n",
    "    recall_weighted = recall_score(y_true, y_pred, average=\"weighted\")\n",
    "    recall_macro = recall_score(y_true, y_pred, average=\"macro\")\n",
    "\n",
    "    f1_micro = f1_score(y_true, y_pred, average=\"micro\")\n",
    "    f1_weighted = f1_score(y_true, y_pred, average=\"weighted\")\n",
    "    f1_macro = f1_score(y_true, y_pred, average=\"macro\")\n",
    "\n",
    "    print(\"Accuracy score: {:.3f}\".format(accuracy_score(y_true, y_pred)))\n",
    "    print()\n",
    "    \n",
    "    print(\"Precision score (micro): {:.3f}\".format(precision_micro))\n",
    "    print(\"Recall score (micro): {:.3f}\".format(recall_micro))\n",
    "    print(\"F1 score (micro): {:.3f}\".format(f1_micro))\n",
    "    print()\n",
    "    print(\"Precision score (weighted): {:.3f}\".format(precision_weighted))\n",
    "    print(\"Recall score (weighted): {:.3f}\".format(recall_weighted))\n",
    "    print(\"F1 score (weighted): {:.3f}\".format(f1_weighted))\n",
    "    print()\n",
    "    print(\"Precision score (macro): {:.3f}\".format(precision_macro))\n",
    "    print(\"Recall score (macro): {:.3f}\".format(recall_macro))\n",
    "    print(\"F1 score (macro): {:.3f}\".format(f1_macro))\n",
    "    \n",
    "    plot_precision_recall_curve(n_classes, precision, recall)"
   ]
  },
  {
   "cell_type": "code",
   "execution_count": 19,
   "metadata": {},
   "outputs": [],
   "source": [
    "train_df = pd.read_csv(\"Data/formated.csv\")\n",
    "test_df = pd.read_csv(\"Data/formatedTesting.csv\")\n",
    "\n",
    "train_df.columns = [col.strip() for col in train_df.columns]\n",
    "test_df.columns = [col.strip() for col in test_df.columns]"
   ]
  },
  {
   "cell_type": "code",
   "execution_count": 20,
   "metadata": {},
   "outputs": [
    {
     "data": {
      "text/plain": [
       "Index(['events', 'shots made', 'is goal', 'assist count', 'fast break', 'e1',\n",
       "       'e2', 'e3', 'e4', 'e5', 'e6', 'e7', 'e8', 'e9', 'e10', 'e11', 'e12',\n",
       "       'e13', 'e14', 'e15', 's1', 's2', 's3', 's4', 'sp1', 'sp2', 'sp3', 'sp4',\n",
       "       'sp5', 'sp6', 'sp7', 'sp8', 'sp9', 'sp10', 'sp11', 'sp12', 'sp13',\n",
       "       'events 2', 'shots made 2', 'is goal 2', 'assist count 2',\n",
       "       'fast break 2', 'e1.1', 'e2.1', 'e3.1', 'e4.1', 'e5.1', 'e6.1', 'e7.1',\n",
       "       'e8.1', 'e9.1', 'e10.1', 'e11.1', 'e12.1', 'e13.1', 'e14.1', 'e15.1',\n",
       "       's1.1', 's2.1', 's3.1', 's4.1', 'sp1.1', 'sp2.1', 'sp3.1', 'sp4.1',\n",
       "       'sp5.1', 'sp6.1', 'sp7.1', 'sp8.1', 'sp9.1', 'sp10.1', 'sp11.1',\n",
       "       'sp12.1', 'sp13.1', 'target Feature'],\n",
       "      dtype='object')"
      ]
     },
     "execution_count": 20,
     "metadata": {},
     "output_type": "execute_result"
    }
   ],
   "source": [
    "train_df.columns"
   ]
  },
  {
   "cell_type": "code",
   "execution_count": 21,
   "metadata": {},
   "outputs": [],
   "source": [
    "# Delete duplicate columns\n",
    "del train_df[\"e1\"]\n",
    "del train_df[\"e1.1\"]\n",
    "del test_df[\"e1\"]\n",
    "del test_df[\"e1.1\"]"
   ]
  },
  {
   "cell_type": "markdown",
   "metadata": {},
   "source": [
    "There's some imbalance between the target features as seen by the charts below. The number of games where the result is draw is significantly less than the other types"
   ]
  },
  {
   "cell_type": "code",
   "execution_count": 22,
   "metadata": {},
   "outputs": [
    {
     "data": {
      "text/plain": [
       "Text(0.5,1,'Target feature distribution in training set')"
      ]
     },
     "execution_count": 22,
     "metadata": {},
     "output_type": "execute_result"
    },
    {
     "data": {
      "image/png": "[encoded data removed]",
      "text/plain": [
       "<Figure size 432x288 with 1 Axes>"
      ]
     },
     "metadata": {},
     "output_type": "display_data"
    }
   ],
   "source": [
    "sns.countplot(train_df[\"target Feature\"])\n",
    "plt.title(\"Target feature distribution in training set\")"
   ]
  },
  {
   "cell_type": "code",
   "execution_count": 23,
   "metadata": {},
   "outputs": [
    {
     "data": {
      "text/plain": [
       "Text(0.5,1,'Target feature distribution in test set')"
      ]
     },
     "execution_count": 23,
     "metadata": {},
     "output_type": "execute_result"
    },
    {
     "data": {
      "image/png": "[encoded data removed]",
      "text/plain": [
       "<Figure size 432x288 with 1 Axes>"
      ]
     },
     "metadata": {},
     "output_type": "display_data"
    }
   ],
   "source": [
    "sns.countplot(test_df[\"target Feature\"])\n",
    "plt.title(\"Target feature distribution in test set\")"
   ]
  },
  {
   "cell_type": "markdown",
   "metadata": {},
   "source": [
    "## Feature selection and hyperparameter tuning for SVM with RBF kernel"
   ]
  },
  {
   "cell_type": "code",
   "execution_count": 24,
   "metadata": {},
   "outputs": [],
   "source": [
    "# Split the dataframe into features and labels arrays\n",
    "train_features_array = train_df.iloc[:, :-1].values\n",
    "train_labels_array = train_df.loc[:, \"target Feature\"].values\n",
    "train_labels_binarized = label_binarize(train_labels_array, classes=[0,1,2])\n",
    "\n",
    "test_features_array = test_df.iloc[:, :-1].values\n",
    "test_labels_array = test_df.loc[:, \"target Feature\"].values\n",
    "test_labels_binarized = label_binarize(test_labels_array, classes=[0,1,2])"
   ]
  },
  {
   "cell_type": "code",
   "execution_count": 25,
   "metadata": {},
   "outputs": [
    {
     "name": "stdout",
     "output_type": "stream",
     "text": [
      "Number of features where p_value < 0.05: 55\n",
      "\n",
      "Top 10 features according to chi squared score:\n",
      "           feature   chi2_score        p_value\n",
      "39  assist count 2  1798.223516   0.000000e+00\n",
      "37    shots made 2  1797.710441   0.000000e+00\n",
      "3     assist count  1797.378472   0.000000e+00\n",
      "1       shots made  1753.166242   0.000000e+00\n",
      "55            s1.1  1664.908265   0.000000e+00\n",
      "19              s1  1531.331278   0.000000e+00\n",
      "36        events 2   758.872534  1.632762e-165\n",
      "0           events   719.802457  4.976024e-157\n",
      "60           sp2.1   645.331561  7.379586e-141\n",
      "5               e2   577.401348  4.158056e-126\n"
     ]
    }
   ],
   "source": [
    "# Feature selection using chi2 test\n",
    "select_k_best = SelectKBest(chi2, k=\"all\")\n",
    "select_k_best.fit(train_features_array, train_labels_array)\n",
    "\n",
    "feature_scores = pd.DataFrame({\"feature\": train_df.columns[:-1], \"chi2_score\": select_k_best.scores_,\n",
    "                              \"p_value\": select_k_best.pvalues_})\n",
    "\n",
    "print(\"Number of features where p_value < 0.05: {}\\n\".format(feature_scores[feature_scores[\"p_value\"] < 0.05].shape[0]))\n",
    "print(\"Top 10 features according to chi squared score:\")\n",
    "print(feature_scores[feature_scores[\"p_value\"] < 0.05].sort_values(\"chi2_score\", ascending=False)[:10])"
   ]
  },
  {
   "cell_type": "code",
   "execution_count": null,
   "metadata": {
    "scrolled": true
   },
   "outputs": [],
   "source": [
    "# Define scorer for grid search\n",
    "accuracy_scorer = make_scorer(accuracy_score)\n",
    "\n",
    "# Run grid search to determine the best number of features and values for hyperparameters\n",
    "pipe = Pipeline([\n",
    "    # the reduce_dim stage is populated by the param_grid\n",
    "    ('reduce_dim', None),\n",
    "    ('normalize', MinMaxScaler((0,1))),\n",
    "    ('classify', SVC(kernel=\"rbf\"))\n",
    "])\n",
    "\n",
    "N_FEATURES_OPTIONS = [10, 20, 30, 40]\n",
    "C_OPTIONS = [1, 5, 10, 50, 100]\n",
    "GAMMA_OPTIONS = [0.01, 0.05, 0.001, 0.005]\n",
    "param_grid = [\n",
    "    {\n",
    "        'reduce_dim': [SelectKBest(chi2)],\n",
    "        'reduce_dim__k': N_FEATURES_OPTIONS,\n",
    "        'classify__C': C_OPTIONS,\n",
    "        'classify__gamma': GAMMA_OPTIONS\n",
    "    },\n",
    "]\n",
    "reducer_labels = ['KBest(chi2)']\n",
    "\n",
    "grid = GridSearchCV(pipe, cv=5, n_jobs=2, param_grid=param_grid)\n",
    "grid.fit(train_features_array, train_labels_array)"
   ]
  },
  {
   "cell_type": "code",
   "execution_count": 27,
   "metadata": {},
   "outputs": [
    {
     "name": "stdout",
     "output_type": "stream",
     "text": [
      "Cross validation best_accuracy score: 0.752\n",
      "Best C: 50\n",
      "Best gamma: 0.05\n",
      "Best number of features: 20\n",
      "Features selected:\n",
      "           feature   chi2_score        p_value\n",
      "39  assist count 2  1798.223516   0.000000e+00\n",
      "37    shots made 2  1797.710441   0.000000e+00\n",
      "3     assist count  1797.378472   0.000000e+00\n",
      "1       shots made  1753.166242   0.000000e+00\n",
      "55            s1.1  1664.908265   0.000000e+00\n",
      "19              s1  1531.331278   0.000000e+00\n",
      "36        events 2   758.872534  1.632762e-165\n",
      "0           events   719.802457  4.976024e-157\n",
      "60           sp2.1   645.331561  7.379586e-141\n",
      "5               e2   577.401348  4.158056e-126\n",
      "24             sp2   522.465122  3.532973e-114\n",
      "41            e2.1   439.590733   3.500138e-96\n",
      "30             sp8   279.897254   1.663733e-61\n",
      "67           sp9.1   239.168420   1.162084e-52\n",
      "27             sp5   222.817247   4.129044e-49\n",
      "66           sp8.1   198.831519   6.672432e-44\n",
      "21              s3   187.847105   1.620016e-41\n",
      "57            s3.1   159.009898   2.961007e-35\n",
      "31             sp9   148.191181   6.617500e-33\n",
      "63           sp5.1   140.142539   3.701981e-31\n"
     ]
    }
   ],
   "source": [
    "n_features = grid.best_params_[\"reduce_dim__k\"]\n",
    "best_C = grid.best_params_[\"classify__C\"]\n",
    "best_gamma = grid.best_params_[\"classify__gamma\"]\n",
    "\n",
    "print(\"Cross validation best_accuracy score: {:.3f}\".format(grid.best_score_))\n",
    "print(\"Best C: {}\".format(best_C))\n",
    "print(\"Best gamma: {}\".format(best_gamma))\n",
    "print(\"Best number of features: {}\".format(n_features))\n",
    "print(\"Features selected:\")\n",
    "print(feature_scores[feature_scores[\"p_value\"] < 0.05].sort_values(\"chi2_score\", ascending=False)[:n_features])"
   ]
  },
  {
   "cell_type": "code",
   "execution_count": 28,
   "metadata": {},
   "outputs": [
    {
     "data": {
      "image/png": "[encoded data removed]",
      "text/plain": [
       "<Figure size 432x288 with 1 Axes>"
      ]
     },
     "metadata": {},
     "output_type": "display_data"
    }
   ],
   "source": [
    "# Taken from: https://scikit-learn.org/stable/auto_examples/compose/plot_compare_reduction.html#sphx-glr-auto-examples-compose-plot-compare-reduction-py\n",
    "mean_scores = np.array(grid.cv_results_['mean_test_score'])\n",
    "mean_scores = mean_scores.reshape(len(C_OPTIONS), len(GAMMA_OPTIONS), len(N_FEATURES_OPTIONS))\n",
    "mean_scores = mean_scores.max(axis=(0,1))\n",
    "\n",
    "bar_offsets = (np.arange(len(N_FEATURES_OPTIONS)) * (len(reducer_labels) + 1) + .5)\n",
    "\n",
    "plt.figure()\n",
    "COLORS = 'bgrcmyk'\n",
    "for i, (label, reducer_scores) in enumerate(zip(reducer_labels, mean_scores)):\n",
    "    plt.bar(bar_offsets + i, reducer_scores, label=label, color=COLORS[i])\n",
    "\n",
    "plt.title(\"Comparing feature selection for SVM RBF\")\n",
    "plt.xlabel('Reduced number of features')\n",
    "plt.xticks(bar_offsets, N_FEATURES_OPTIONS)\n",
    "plt.ylabel('Classification accuracy')\n",
    "plt.ylim((0, 1))\n",
    "\n",
    "plt.show()"
   ]
  },
  {
   "cell_type": "code",
   "execution_count": 29,
   "metadata": {},
   "outputs": [
    {
     "name": "stderr",
     "output_type": "stream",
     "text": [
      "/anaconda3/lib/python3.6/site-packages/sklearn/utils/validation.py:475: DataConversionWarning: Data with input dtype int64 was converted to float64 by MinMaxScaler.\n",
      "  warnings.warn(msg, DataConversionWarning)\n"
     ]
    },
    {
     "name": "stdout",
     "output_type": "stream",
     "text": [
      "Accuracy score on test set: 0.741\n"
     ]
    }
   ],
   "source": [
    "# Train the SVM on the entire training set using the parameters determined by grid search\n",
    "svm_pipe = Pipeline([\n",
    "    ('reduce_dim', SelectKBest(chi2, k=n_features)),\n",
    "    ('normalize', MinMaxScaler((0,1))),\n",
    "    ('classify', SVC(kernel=\"rbf\", C=best_C, gamma=best_gamma))\n",
    "])\n",
    "\n",
    "svm_pipe.fit(train_features_array, train_labels_array)\n",
    "\n",
    "print(\"Accuracy score on test set: {:.3f}\".format(svm_pipe.score(test_features_array, test_labels_array)))"
   ]
  },
  {
   "cell_type": "markdown",
   "metadata": {},
   "source": [
    "## Feature selection and hyperparameter tuning for SVM with Linear kernel"
   ]
  },
  {
   "cell_type": "code",
   "execution_count": 30,
   "metadata": {},
   "outputs": [
    {
     "name": "stderr",
     "output_type": "stream",
     "text": [
      "/anaconda3/lib/python3.6/site-packages/sklearn/utils/validation.py:475: DataConversionWarning: Data with input dtype int64 was converted to float64 by MinMaxScaler.\n",
      "  warnings.warn(msg, DataConversionWarning)\n"
     ]
    },
    {
     "name": "stdout",
     "output_type": "stream",
     "text": [
      "Optimal number of features : 13\n"
     ]
    },
    {
     "data": {
      "image/png": "[encoded data removed]",
      "text/plain": [
       "<Figure size 432x288 with 1 Axes>"
      ]
     },
     "metadata": {},
     "output_type": "display_data"
    }
   ],
   "source": [
    "# Taken from: https://scikit-learn.org/stable/auto_examples/feature_selection/plot_rfe_with_cross_validation.html#sphx-glr-auto-examples-feature-selection-plot-rfe-with-cross-validation-py\n",
    "# Create the RFE object and compute a cross-validated score.\n",
    "svc = SVC(kernel=\"linear\")\n",
    "normalizer = MinMaxScaler((0, 1))\n",
    "normalizer.fit(train_features_array)\n",
    "\n",
    "rfecv = RFECV(estimator=svc, step=1, cv=StratifiedKFold(5),\n",
    "              scoring='accuracy')\n",
    "rfecv.fit(normalizer.transform(train_features_array), train_labels_array)\n",
    "\n",
    "print(\"Optimal number of features : %d\" % rfecv.n_features_)\n",
    "\n",
    "# Plot number of features VS. cross-validation scores\n",
    "plt.figure()\n",
    "plt.xlabel(\"Number of features selected\")\n",
    "plt.ylabel(\"Cross validation score (nb of correct classifications)\")\n",
    "plt.plot(range(1, len(rfecv.grid_scores_) + 1), rfecv.grid_scores_)\n",
    "plt.show()"
   ]
  },
  {
   "cell_type": "code",
   "execution_count": 31,
   "metadata": {},
   "outputs": [
    {
     "name": "stdout",
     "output_type": "stream",
     "text": [
      "Top 13 features according to RFECV\n",
      "          features  rfecv_rank\n",
      "45            e6.1           1\n",
      "1       shots made           1\n",
      "2          is goal           1\n",
      "3     assist count           1\n",
      "41            e2.1           1\n",
      "5               e2           1\n",
      "39  assist count 2           1\n",
      "7               e4           1\n",
      "38       is goal 2           1\n",
      "9               e6           1\n",
      "37    shots made 2           1\n",
      "55            s1.1           1\n",
      "56            s2.1           1\n"
     ]
    }
   ],
   "source": [
    "rfe_ranking = pd.DataFrame({\"features\": train_df.columns[:-1], \"rfecv_rank\": rfecv.ranking_})\n",
    "print(\"Top {} features according to RFECV\".format(rfecv.n_features_))\n",
    "print(rfe_ranking.sort_values(\"rfecv_rank\")[:rfecv.n_features_])"
   ]
  },
  {
   "cell_type": "code",
   "execution_count": 32,
   "metadata": {},
   "outputs": [],
   "source": [
    "selected_features = rfecv.transform(normalizer.transform(train_features_array))"
   ]
  },
  {
   "cell_type": "code",
   "execution_count": 33,
   "metadata": {},
   "outputs": [
    {
     "data": {
      "text/plain": [
       "GridSearchCV(cv=5, error_score='raise',\n",
       "       estimator=SVC(C=1.0, cache_size=200, class_weight=None, coef0=0.0,\n",
       "  decision_function_shape='ovr', degree=3, gamma='auto', kernel='linear',\n",
       "  max_iter=-1, probability=False, random_state=None, shrinking=True,\n",
       "  tol=0.001, verbose=False),\n",
       "       fit_params=None, iid=True, n_jobs=2,\n",
       "       param_grid={'C': [1, 2, 3, 4, 5, 10, 50, 100]},\n",
       "       pre_dispatch='2*n_jobs', refit=True, return_train_score='warn',\n",
       "       scoring=None, verbose=0)"
      ]
     },
     "execution_count": 33,
     "metadata": {},
     "output_type": "execute_result"
    }
   ],
   "source": [
    "# Define scorer for grid search\n",
    "accuracy_scorer = make_scorer(accuracy_score)\n",
    "\n",
    "# Find the best value of C for SVM with Linear kernel\n",
    "param_grid = {\n",
    "        \"C\": [1, 2, 3, 4, 5, 10, 50, 100]\n",
    "    }\n",
    "\n",
    "grid = GridSearchCV(SVC(kernel=\"linear\"), cv=5, n_jobs=2, param_grid=param_grid)\n",
    "grid.fit(selected_features, train_labels_array)"
   ]
  },
  {
   "cell_type": "code",
   "execution_count": 34,
   "metadata": {},
   "outputs": [
    {
     "name": "stdout",
     "output_type": "stream",
     "text": [
      "Cross validation best_accuracy score: 0.754\n",
      "Best C: 4\n"
     ]
    }
   ],
   "source": [
    "best_C = grid.best_params_[\"C\"]\n",
    "\n",
    "print(\"Cross validation best_accuracy score: {:.3f}\".format(grid.best_score_))\n",
    "print(\"Best C: {}\".format(best_C))"
   ]
  },
  {
   "cell_type": "code",
   "execution_count": 35,
   "metadata": {},
   "outputs": [
    {
     "name": "stdout",
     "output_type": "stream",
     "text": [
      "Accuracy score on test set: 0.748\n"
     ]
    }
   ],
   "source": [
    "# Train the SVM on the entire training set using the parameters determined by grid search\n",
    "linear_svm = SVC(kernel=\"linear\", C=best_C)\n",
    "linear_svm.fit(selected_features, train_labels_array)\n",
    "\n",
    "selected_test_features = rfecv.transform(normalizer.transform(test_features_array))\n",
    "\n",
    "print(\"Accuracy score on test set: {:.3f}\".format(linear_svm.score(selected_test_features, test_labels_array)))"
   ]
  },
  {
   "cell_type": "code",
   "execution_count": 36,
   "metadata": {},
   "outputs": [],
   "source": [
    "feature_coefs_class_0 = rfe_ranking.sort_values(\"rfecv_rank\")[:rfecv.n_features_]\n",
    "feature_coefs_class_0 = feature_coefs_class_0.sort_index()\n",
    "feature_coefs_class_0[\"coef\"] = linear_svm.coef_[0]\n",
    "feature_coefs_class_0[\"abs_coef\"] = feature_coefs_class_0[\"coef\"].abs()"
   ]
  },
  {
   "cell_type": "code",
   "execution_count": 37,
   "metadata": {},
   "outputs": [
    {
     "data": {
      "text/html": [
       "<div>\n",
       "<style scoped>\n",
       "    .dataframe tbody tr th:only-of-type {\n",
       "        vertical-align: middle;\n",
       "    }\n",
       "\n",
       "    .dataframe tbody tr th {\n",
       "        vertical-align: top;\n",
       "    }\n",
       "\n",
       "    .dataframe thead th {\n",
       "        text-align: right;\n",
       "    }\n",
       "</style>\n",
       "<table border=\"1\" class=\"dataframe\">\n",
       "  <thead>\n",
       "    <tr style=\"text-align: right;\">\n",
       "      <th></th>\n",
       "      <th>features</th>\n",
       "      <th>rfecv_rank</th>\n",
       "      <th>coef</th>\n",
       "      <th>abs_coef</th>\n",
       "    </tr>\n",
       "  </thead>\n",
       "  <tbody>\n",
       "    <tr>\n",
       "      <th>3</th>\n",
       "      <td>assist count</td>\n",
       "      <td>1</td>\n",
       "      <td>-5.873468</td>\n",
       "      <td>5.873468</td>\n",
       "    </tr>\n",
       "    <tr>\n",
       "      <th>39</th>\n",
       "      <td>assist count 2</td>\n",
       "      <td>1</td>\n",
       "      <td>5.539419</td>\n",
       "      <td>5.539419</td>\n",
       "    </tr>\n",
       "    <tr>\n",
       "      <th>1</th>\n",
       "      <td>shots made</td>\n",
       "      <td>1</td>\n",
       "      <td>-1.655095</td>\n",
       "      <td>1.655095</td>\n",
       "    </tr>\n",
       "    <tr>\n",
       "      <th>9</th>\n",
       "      <td>e6</td>\n",
       "      <td>1</td>\n",
       "      <td>1.399852</td>\n",
       "      <td>1.399852</td>\n",
       "    </tr>\n",
       "    <tr>\n",
       "      <th>38</th>\n",
       "      <td>is goal 2</td>\n",
       "      <td>1</td>\n",
       "      <td>-1.122449</td>\n",
       "      <td>1.122449</td>\n",
       "    </tr>\n",
       "    <tr>\n",
       "      <th>55</th>\n",
       "      <td>s1.1</td>\n",
       "      <td>1</td>\n",
       "      <td>1.115054</td>\n",
       "      <td>1.115054</td>\n",
       "    </tr>\n",
       "    <tr>\n",
       "      <th>45</th>\n",
       "      <td>e6.1</td>\n",
       "      <td>1</td>\n",
       "      <td>-0.866399</td>\n",
       "      <td>0.866399</td>\n",
       "    </tr>\n",
       "    <tr>\n",
       "      <th>2</th>\n",
       "      <td>is goal</td>\n",
       "      <td>1</td>\n",
       "      <td>0.853391</td>\n",
       "      <td>0.853391</td>\n",
       "    </tr>\n",
       "    <tr>\n",
       "      <th>7</th>\n",
       "      <td>e4</td>\n",
       "      <td>1</td>\n",
       "      <td>0.782316</td>\n",
       "      <td>0.782316</td>\n",
       "    </tr>\n",
       "    <tr>\n",
       "      <th>5</th>\n",
       "      <td>e2</td>\n",
       "      <td>1</td>\n",
       "      <td>-0.781998</td>\n",
       "      <td>0.781998</td>\n",
       "    </tr>\n",
       "    <tr>\n",
       "      <th>37</th>\n",
       "      <td>shots made 2</td>\n",
       "      <td>1</td>\n",
       "      <td>0.712970</td>\n",
       "      <td>0.712970</td>\n",
       "    </tr>\n",
       "    <tr>\n",
       "      <th>56</th>\n",
       "      <td>s2.1</td>\n",
       "      <td>1</td>\n",
       "      <td>-0.488526</td>\n",
       "      <td>0.488526</td>\n",
       "    </tr>\n",
       "    <tr>\n",
       "      <th>41</th>\n",
       "      <td>e2.1</td>\n",
       "      <td>1</td>\n",
       "      <td>0.485139</td>\n",
       "      <td>0.485139</td>\n",
       "    </tr>\n",
       "  </tbody>\n",
       "</table>\n",
       "</div>"
      ],
      "text/plain": [
       "          features  rfecv_rank      coef  abs_coef\n",
       "3     assist count           1 -5.873468  5.873468\n",
       "39  assist count 2           1  5.539419  5.539419\n",
       "1       shots made           1 -1.655095  1.655095\n",
       "9               e6           1  1.399852  1.399852\n",
       "38       is goal 2           1 -1.122449  1.122449\n",
       "55            s1.1           1  1.115054  1.115054\n",
       "45            e6.1           1 -0.866399  0.866399\n",
       "2          is goal           1  0.853391  0.853391\n",
       "7               e4           1  0.782316  0.782316\n",
       "5               e2           1 -0.781998  0.781998\n",
       "37    shots made 2           1  0.712970  0.712970\n",
       "56            s2.1           1 -0.488526  0.488526\n",
       "41            e2.1           1  0.485139  0.485139"
      ]
     },
     "execution_count": 37,
     "metadata": {},
     "output_type": "execute_result"
    }
   ],
   "source": [
    "feature_coefs_class_0.sort_values(\"abs_coef\", ascending=False)"
   ]
  },
  {
   "cell_type": "markdown",
   "metadata": {},
   "source": [
    "Linear SVM assigns very high weights to assist counts of both teams. The number of red cards received by team 1 and the number of shots attempted prior to half time also has decent weight."
   ]
  },
  {
   "cell_type": "code",
   "execution_count": null,
   "metadata": {},
   "outputs": [],
   "source": []
  }
 ],
 "metadata": {
  "kernelspec": {
   "display_name": "Python 3",
   "language": "python",
   "name": "python3"
  },
  "language_info": {
   "codemirror_mode": {
    "name": "ipython",
    "version": 3
   },
   "file_extension": ".py",
   "mimetype": "text/x-python",
   "name": "python",
   "nbconvert_exporter": "python",
   "pygments_lexer": "ipython3",
   "version": "3.6.5"
  }
 },
 "nbformat": 4,
 "nbformat_minor": 2
}
