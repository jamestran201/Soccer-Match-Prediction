{
 "cells": [
  {
   "cell_type": "code",
   "execution_count": 890,
   "metadata": {},
   "outputs": [],
   "source": [
    "from __future__ import print_function\n",
    "\n",
    "import tensorflow as tf\n",
    "import pandas as pd\n",
    "import numpy as np\n",
    "from sklearn.preprocessing import label_binarize"
   ]
  },
  {
   "cell_type": "code",
   "execution_count": 891,
   "metadata": {},
   "outputs": [],
   "source": [
    "def neural_net(x):\n",
    "    layer_1 = tf.add(tf.matmul(x, weights['h1']), biases['b1'])\n",
    "    layer_1 = tf.nn.relu(layer_1)\n",
    "#    layer_1 = tf.nn.dropout(layer_1,keep_prob)\n",
    "    \n",
    "#     layer_2 = tf.add(tf.matmul(layer_1, weights['h2']), biases['b2'])\n",
    "#     layer_2 = tf.nn.relu(layer_2)\n",
    "#    layer_2 = tf.nn.dropout(layer_2,keep_prob)\n",
    "    \n",
    "    out_layer = tf.matmul(layer_1, weights['output']) + biases['output']\n",
    "    return out_layer"
   ]
  },
  {
   "cell_type": "code",
   "execution_count": 892,
   "metadata": {},
   "outputs": [],
   "source": [
    "def split_data(file):\n",
    "    filename = [file]\n",
    "    record_defaults = [tf.float32] * 75   # Eight required float columns\n",
    "    dataset = tf.contrib.data.CsvDataset(filename, record_defaults)\n",
    "    return dataset"
   ]
  },
  {
   "cell_type": "code",
   "execution_count": 893,
   "metadata": {},
   "outputs": [
    {
     "name": "stdout",
     "output_type": "stream",
     "text": [
      "[[0 1 0]\n",
      " [0 1 0]\n",
      " [0 1 0]\n",
      " ...\n",
      " [0 1 0]\n",
      " [1 0 0]\n",
      " [0 1 0]]\n"
     ]
    }
   ],
   "source": [
    "train_df = pd.read_csv(\"Data/formated.csv\")\n",
    "test_df = pd.read_csv(\"Data/formatedTesting.csv\")\n",
    "\n",
    "train_df.columns = [col.strip() for col in train_df.columns]\n",
    "test_df.columns = [col.strip() for col in test_df.columns]\n",
    "\n",
    "# Split the dataframe into features and labels arrays\n",
    "train_features_array = train_df.iloc[:, :-1].values\n",
    "train_labels_array = train_df.loc[:, \"target Feature\"].values\n",
    "train_labels_binarized = label_binarize(train_labels_array, classes=[0,1,2])\n",
    "print(train_labels_binarized)\n",
    "test_features_array = test_df.iloc[:, :-1].values\n",
    "test_labels_array = test_df.loc[:, \"target Feature\"].values\n",
    "test_labels_binarized = label_binarize(test_labels_array, classes=[0,1,2])"
   ]
  },
  {
   "cell_type": "code",
   "execution_count": 894,
   "metadata": {},
   "outputs": [
    {
     "name": "stdout",
     "output_type": "stream",
     "text": [
      "Tensor(\"Placeholder_278:0\", shape=(?, 74), dtype=float32)\n",
      "Tensor(\"Placeholder_280:0\", dtype=float32)\n",
      "Tensor(\"Placeholder_282:0\", shape=(1, 3), dtype=float32)\n"
     ]
    }
   ],
   "source": [
    "input_nodes = 74 # maybe 75 for a bias\n",
    "output_nodes = 3\n",
    "hLayers = 2\n",
    "hLayerOne = 37 # half of input nodes\n",
    "hLayerTwo = 37 # for sigmoid function\n",
    "\n",
    "learning_rate = 0.01\n",
    "#epochs = 1 # number of times to iterate over data\n",
    "batches = 3\n",
    "train_batch = int(len(train_df)/batches)\n",
    "test_batch = int(len(test_df)/batches)\n",
    "print(X)\n",
    "keep_prob = tf.placeholder(\"float\")\n",
    "print(keep_prob)\n",
    "X = tf.placeholder(\"float\", [None, input_nodes])\n",
    "Y = tf.placeholder(\"float\", [1, output_nodes])\n",
    "print(Y)"
   ]
  },
  {
   "cell_type": "code",
   "execution_count": 895,
   "metadata": {},
   "outputs": [],
   "source": [
    "weights = {\n",
    "    'h1': tf.Variable(tf.random_normal([input_nodes, hLayerOne])),\n",
    "#     'h2': tf.Variable(tf.random_normal([hLayerOne, hLayerTwo])),\n",
    "    'output': tf.Variable(tf.random_normal([hLayerOne, output_nodes]))\n",
    "}\n",
    "\n",
    "biases = {\n",
    "    'b1': tf.Variable(tf.random_normal([hLayerOne])),\n",
    "#     'b2': tf.Variable(tf.random_normal([hLayerTwo])),\n",
    "    'output': tf.Variable(tf.random_normal([output_nodes]))\n",
    "}"
   ]
  },
  {
   "cell_type": "code",
   "execution_count": 896,
   "metadata": {},
   "outputs": [],
   "source": [
    "# Construct model\n",
    "logits = neural_net(X)\n",
    "\n",
    "# Finding the cost of the algorithm\n",
    "cost = tf.reduce_mean(tf.nn.softmax_cross_entropy_with_logits(logits=logits, labels=Y))\n",
    "\n",
    "# Finding optimization of the algorithm\n",
    "optimizer = tf.train.AdamOptimizer(learning_rate=learning_rate).minimize(cost)"
   ]
  },
  {
   "cell_type": "code",
   "execution_count": 897,
   "metadata": {},
   "outputs": [
    {
     "name": "stdout",
     "output_type": "stream",
     "text": [
      "Epoch: 0001 cost= 0.000000000\n",
      "Epoch: 1001 cost= 4.698298277\n",
      "Epoch: 2001 cost= 5.934567422\n",
      "Epoch: 3001 cost= 6.381467345\n",
      "Epoch: 4001 cost= 6.754971243\n",
      "Epoch: 5001 cost= 7.102835239\n",
      "Epoch: 6001 cost= 7.455748852\n",
      "Optimization Finished!\n",
      "Tensor(\"Mean_83:0\", shape=(), dtype=float32)\n"
     ]
    }
   ],
   "source": [
    "with tf.Session() as sess:\n",
    "    sess.run(tf.global_variables_initializer())\n",
    "    \n",
    "    for batch in range(1):\n",
    "        avg_cost = 0.0\n",
    "        x_batches = np.array_split(train_features_array, 6807)\n",
    "        y_batches = np.array_split(train_labels_binarized, 6807)\n",
    "        for i in range(6807):\n",
    "            batch_x, batch_y = x_batches[i], y_batches[i]\n",
    "            _, c = sess.run([optimizer, cost], \n",
    "                            feed_dict={\n",
    "                                X: batch_x, \n",
    "                                Y: batch_y, \n",
    "                                keep_prob: 0.8\n",
    "                            })\n",
    "            avg_cost += c / total_batch\n",
    "            if i % 1000 == 0:\n",
    "                print(\"Epoch:\", '%04d' % (i+1), \"cost=\", \"{:.9f}\".format(avg_cost))\n",
    "                \n",
    "        print(\"Optimization Finished!\")\n",
    "        correct_prediction = tf.equal(tf.argmax(X, 1), tf.argmax(Y, 1))\n",
    "        accuracy = tf.reduce_mean(tf.cast(correct_prediction, \"float\"))\n",
    "#         print(\"Accuracy:\", accuracy.eval({X: test_features_array, Y: test_labels_binarized, keep_prob: 1.0}))"
   ]
  }
 ],
 "metadata": {
  "kernelspec": {
   "display_name": "Python 3",
   "language": "python",
   "name": "python3"
  },
  "language_info": {
   "codemirror_mode": {
    "name": "ipython",
    "version": 3
   },
   "file_extension": ".py",
   "mimetype": "text/x-python",
   "name": "python",
   "nbconvert_exporter": "python",
   "pygments_lexer": "ipython3",
   "version": "3.6.5"
  }
 },
 "nbformat": 4,
 "nbformat_minor": 2
}
