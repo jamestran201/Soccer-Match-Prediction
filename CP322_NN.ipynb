{
 "cells": [
  {
   "cell_type": "code",
   "execution_count": 1,
   "metadata": {},
   "outputs": [
    {
     "name": "stderr",
     "output_type": "stream",
     "text": [
      "/anaconda3/lib/python3.6/site-packages/h5py/__init__.py:36: FutureWarning: Conversion of the second argument of issubdtype from `float` to `np.floating` is deprecated. In future, it will be treated as `np.float64 == np.dtype(float).type`.\n",
      "  from ._conv import register_converters as _register_converters\n"
     ]
    }
   ],
   "source": [
    "from __future__ import print_function\n",
    "\n",
    "import tensorflow as tf\n",
    "import pandas as pd\n",
    "import numpy as np\n",
    "from sklearn.preprocessing import label_binarize"
   ]
  },
  {
   "cell_type": "code",
   "execution_count": 31,
   "metadata": {},
   "outputs": [],
   "source": [
    "def neural_net(x):\n",
    "    layer_1 = tf.add(tf.matmul(x, weights['h1']), biases['b1'])\n",
    "    layer_1 = tf.nn.relu(layer_1)\n",
    "    \n",
    "#     layer_2 = tf.add(tf.matmul(layer_1, weights['h2']), biases['b2'])\n",
    "#     layer_2 = tf.nn.relu(layer_2)\n",
    "    \n",
    "    out_layer = tf.matmul(layer_1, weights['output']) + biases['output']\n",
    "    return out_layer"
   ]
  },
  {
   "cell_type": "code",
   "execution_count": 6,
   "metadata": {},
   "outputs": [],
   "source": [
    "def split_data(file):\n",
    "    filename = [file]\n",
    "    record_defaults = [tf.float32] * 75   # Eight required float columns\n",
    "    dataset = tf.contrib.data.CsvDataset(filename, record_defaults)\n",
    "    return dataset"
   ]
  },
  {
   "cell_type": "code",
   "execution_count": 15,
   "metadata": {},
   "outputs": [
    {
     "name": "stdout",
     "output_type": "stream",
     "text": [
      "[[0 1 0]\n",
      " [0 1 0]\n",
      " [0 1 0]\n",
      " ...\n",
      " [0 1 0]\n",
      " [1 0 0]\n",
      " [0 1 0]]\n"
     ]
    }
   ],
   "source": [
    "train_df = pd.read_csv(\"Data/formated.csv\")\n",
    "test_df = pd.read_csv(\"Data/formatedTesting.csv\")\n",
    "\n",
    "train_df.columns = [col.strip() for col in train_df.columns]\n",
    "test_df.columns = [col.strip() for col in test_df.columns]\n",
    "\n",
    "# Delete duplicate columns\n",
    "del train_df[\"e1\"]\n",
    "del train_df[\"e1.1\"]\n",
    "del test_df[\"e1\"]\n",
    "del test_df[\"e1.1\"]\n",
    "\n",
    "# Split the dataframe into features and labels arrays\n",
    "train_features_array = train_df.iloc[:, :-1].values\n",
    "train_labels_array = train_df.loc[:, \"target Feature\"].values\n",
    "train_labels_binarized = label_binarize(train_labels_array, classes=[0,1,2])\n",
    "print(train_labels_binarized)\n",
    "test_features_array = test_df.iloc[:, :-1].values\n",
    "test_labels_array = test_df.loc[:, \"target Feature\"].values\n",
    "test_labels_binarized = label_binarize(test_labels_array, classes=[0,1,2])"
   ]
  },
  {
   "cell_type": "code",
   "execution_count": 27,
   "metadata": {},
   "outputs": [
    {
     "name": "stdout",
     "output_type": "stream",
     "text": [
      "Tensor(\"Placeholder_6:0\", dtype=float32)\n",
      "Tensor(\"Placeholder_7:0\", shape=(?, 72), dtype=float32)\n",
      "Tensor(\"Placeholder_8:0\", shape=(?, 3), dtype=float32)\n"
     ]
    }
   ],
   "source": [
    "input_nodes = 72 # maybe 75 for a bias\n",
    "output_nodes = 3\n",
    "hLayers = 2\n",
    "hLayerOne = 36 # half of input nodes\n",
    "hLayerTwo = 36 # for sigmoid function\n",
    "\n",
    "learning_rate = 0.01\n",
    "#epochs = 1 # number of times to iterate over data\n",
    "batches = 3\n",
    "train_batch = int(len(train_df)/batches)\n",
    "test_batch = int(len(test_df)/batches)\n",
    "keep_prob = tf.placeholder(\"float\")\n",
    "print(keep_prob)\n",
    "X = tf.placeholder(\"float\", [None, input_nodes])\n",
    "Y = tf.placeholder(\"float\", [None, output_nodes])\n",
    "print(X)\n",
    "print(Y)"
   ]
  },
  {
   "cell_type": "code",
   "execution_count": 28,
   "metadata": {},
   "outputs": [],
   "source": [
    "weights = {\n",
    "    'h1': tf.Variable(tf.random_normal([input_nodes, hLayerOne])),\n",
    "#     'h2': tf.Variable(tf.random_normal([hLayerOne, hLayerTwo])),\n",
    "    'output': tf.Variable(tf.random_normal([hLayerOne, output_nodes]))\n",
    "}\n",
    "\n",
    "biases = {\n",
    "    'b1': tf.Variable(tf.random_normal([hLayerOne])),\n",
    "#     'b2': tf.Variable(tf.random_normal([hLayerTwo])),\n",
    "    'output': tf.Variable(tf.random_normal([output_nodes]))\n",
    "}"
   ]
  },
  {
   "cell_type": "code",
   "execution_count": 29,
   "metadata": {},
   "outputs": [],
   "source": [
    "# Construct model\n",
    "logits = neural_net(X)\n",
    "\n",
    "# Finding the cost of the algorithm\n",
    "cost = tf.reduce_mean(tf.nn.softmax_cross_entropy_with_logits(logits=logits, labels=Y))\n",
    "\n",
    "# Finding optimization of the algorithm\n",
    "optimizer = tf.train.AdamOptimizer(learning_rate=learning_rate).minimize(cost)"
   ]
  },
  {
   "cell_type": "code",
   "execution_count": null,
   "metadata": {},
   "outputs": [],
   "source": [
    "total_batch = train_features_array.shape[0]\n",
    "\n",
    "with tf.Session() as sess:\n",
    "    sess.run(tf.global_variables_initializer())\n",
    "    \n",
    "    for batch in range(1):\n",
    "        avg_cost = 0.0\n",
    "        x_batches = np.array_split(train_features_array, total_batch)\n",
    "        y_batches = np.array_split(train_labels_binarized, total_batch)\n",
    "        for i in range(6807):\n",
    "            batch_x, batch_y = x_batches[i], y_batches[i]\n",
    "            _, c = sess.run([optimizer, cost], \n",
    "                            feed_dict={\n",
    "                                X: batch_x, \n",
    "                                Y: batch_y, \n",
    "                                keep_prob: 0.8\n",
    "                            })\n",
    "            avg_cost += c / total_batch\n",
    "            if i % 1000 == 0:\n",
    "                print(\"Epoch:\", '%04d' % (i+1), \"cost=\", \"{:.9f}\".format(avg_cost))\n",
    "                \n",
    "        print(\"Optimization Finished!\")\n",
    "        correct_prediction = tf.equal(tf.argmax(X, 1), tf.argmax(Y, 1))\n",
    "        accuracy = tf.reduce_mean(tf.cast(correct_prediction, \"float\"))\n",
    "#         print(\"Accuracy:\", accuracy.eval({X: test_features_array, Y: test_labels_binarized, keep_prob: 1.0}))"
   ]
  },
  {
   "cell_type": "code",
   "execution_count": 33,
   "metadata": {},
   "outputs": [
    {
     "name": "stdout",
     "output_type": "stream",
     "text": [
      "Epoch: 0010 cost= 0.008139166\n",
      "Epoch: 0020 cost= 0.005359549\n",
      "Epoch: 0030 cost= 0.003164174\n",
      "Epoch: 0040 cost= 0.001947266\n",
      "Epoch: 0050 cost= 0.001628850\n",
      "Epoch: 0060 cost= 0.001376411\n",
      "Epoch: 0070 cost= 0.001207770\n",
      "Epoch: 0080 cost= 0.001046849\n",
      "Epoch: 0090 cost= 0.000908889\n",
      "Epoch: 0100 cost= 0.000779213\n",
      "Optimization Finished!\n",
      "\n",
      "Training accuracy:  0.6591744\n",
      "Test accuracy:  0.62902516\n"
     ]
    }
   ],
   "source": [
    "total_batch = train_features_array.shape[0]\n",
    "\n",
    "with tf.Session() as sess:\n",
    "    sess.run(tf.global_variables_initializer())\n",
    "    \n",
    "    for i in range(1, 101):\n",
    "        avg_cost = 0.0\n",
    "        _, c = sess.run([optimizer, cost], \n",
    "                        feed_dict={\n",
    "                            X: train_features_array, \n",
    "                            Y: train_labels_binarized, \n",
    "                        })\n",
    "        avg_cost += c / total_batch\n",
    "        if i % 10 == 0:\n",
    "            print(\"Epoch:\", '%04d' % (i), \"cost=\", \"{:.9f}\".format(avg_cost))\n",
    "                \n",
    "    print(\"Optimization Finished!\")            \n",
    "    \n",
    "    print()\n",
    "    \n",
    "    train_pred = tf.nn.softmax(logits)\n",
    "    correct_train_prediction = tf.equal(tf.argmax(train_pred, 1), tf.argmax(Y, 1))\n",
    "    train_accuracy = tf.reduce_mean(tf.cast(correct_train_prediction, \"float\"))\n",
    "    print(\"Training accuracy: \", train_accuracy.eval({X: train_features_array, Y: train_labels_binarized}))\n",
    "\n",
    "    test_pred = tf.nn.softmax(logits)\n",
    "    correct_test_prediction = tf.equal(tf.argmax(test_pred, 1), tf.argmax(Y, 1))\n",
    "    test_accuracy = tf.reduce_mean(tf.cast(correct_test_prediction, \"float\"))\n",
    "    print(\"Test accuracy: \", test_accuracy.eval({X: test_features_array, Y: test_labels_binarized}))"
   ]
  },
  {
   "cell_type": "code",
   "execution_count": null,
   "metadata": {},
   "outputs": [],
   "source": []
  }
 ],
 "metadata": {
  "kernelspec": {
   "display_name": "Python 3",
   "language": "python",
   "name": "python3"
  },
  "language_info": {
   "codemirror_mode": {
    "name": "ipython",
    "version": 3
   },
   "file_extension": ".py",
   "mimetype": "text/x-python",
   "name": "python",
   "nbconvert_exporter": "python",
   "pygments_lexer": "ipython3",
   "version": "3.6.5"
  }
 },
 "nbformat": 4,
 "nbformat_minor": 2
}
